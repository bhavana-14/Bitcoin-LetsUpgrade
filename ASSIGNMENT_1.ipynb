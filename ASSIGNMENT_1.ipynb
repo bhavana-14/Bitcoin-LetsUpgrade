{
  "nbformat": 4,
  "nbformat_minor": 0,
  "metadata": {
    "colab": {
      "name": "ASSIGNMENT 1",
      "provenance": [],
      "authorship_tag": "ABX9TyPSbaZP8q/HacU5VMjHchKY",
      "include_colab_link": true
    },
    "kernelspec": {
      "name": "python3",
      "display_name": "Python 3"
    },
    "language_info": {
      "name": "python"
    }
  },
  "cells": [
    {
      "cell_type": "markdown",
      "metadata": {
        "id": "view-in-github",
        "colab_type": "text"
      },
      "source": [
        "<a href=\"https://colab.research.google.com/github/bhavana-14/Bitcoin-LetsUpgrade/blob/master/ASSIGNMENT_1.ipynb\" target=\"_parent\"><img src=\"https://colab.research.google.com/assets/colab-badge.svg\" alt=\"Open In Colab\"/></a>"
      ]
    },
    {
      "cell_type": "code",
      "metadata": {
        "id": "KrCBcQ3gZ9OB"
      },
      "source": [
        "#BUILD YOUR SUBTRACTION MULTIPLICATION AND DIVISION FOR CALCULATOR"
      ],
      "execution_count": null,
      "outputs": []
    },
    {
      "cell_type": "code",
      "metadata": {
        "colab": {
          "base_uri": "https://localhost:8080/"
        },
        "id": "3WmGbqwharaS",
        "outputId": "ce98f716-a01f-46d7-f8c7-435ae343d230"
      },
      "source": [
        "#SUBTRACTION\n",
        "\n",
        "a = int(input(\"first number\"))\n",
        "b = int(input(\"second number\"))\n",
        "sub1 = a - b\n",
        "print(\"oursub is\", sub1)"
      ],
      "execution_count": 6,
      "outputs": [
        {
          "output_type": "stream",
          "text": [
            "first number10\n",
            "second number3\n",
            "oursub is 7\n"
          ],
          "name": "stdout"
        }
      ]
    },
    {
      "cell_type": "code",
      "metadata": {
        "colab": {
          "base_uri": "https://localhost:8080/"
        },
        "id": "usPd6Lwha0ra",
        "outputId": "0d0ac69f-fcea-4fa9-aa76-a84143540ed0"
      },
      "source": [
        "#MULTIPLICATION\n",
        "\n",
        "a = int(input(\"first number\"))\n",
        "b = int(input(\"second number\"))\n",
        "mul1 = a * b\n",
        "print(\"ourmul is\", mul1)"
      ],
      "execution_count": 14,
      "outputs": [
        {
          "output_type": "stream",
          "text": [
            "first number3\n",
            "second number5\n",
            "ourmul is 15\n"
          ],
          "name": "stdout"
        }
      ]
    },
    {
      "cell_type": "code",
      "metadata": {
        "colab": {
          "base_uri": "https://localhost:8080/"
        },
        "id": "MBCIPh4Y5rDH",
        "outputId": "6f52478b-9957-49f7-b9ce-9e909a20a9e4"
      },
      "source": [
        "#DIVISION\n",
        "\n",
        "a = int(input(\"first number\"))\n",
        "b = int(input(\"second number\"))\n",
        "div1 = a / b\n",
        "print(\"ourdiv is\", div1)"
      ],
      "execution_count": 15,
      "outputs": [
        {
          "output_type": "stream",
          "text": [
            "first number10\n",
            "second number2\n",
            "ourdiv is 5.0\n"
          ],
          "name": "stdout"
        }
      ]
    }
  ]
}